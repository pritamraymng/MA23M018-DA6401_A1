{
  "nbformat": 4,
  "nbformat_minor": 0,
  "metadata": {
    "colab": {
      "provenance": []
    },
    "kernelspec": {
      "name": "python3",
      "display_name": "Python 3"
    },
    "language_info": {
      "name": "python"
    }
  },
  "cells": [
    {
      "cell_type": "code",
      "execution_count": null,
      "metadata": {
        "id": "ffPtmKocYkh3"
      },
      "outputs": [],
      "source": [
        "import numpy as np\n",
        "import pandas as pd\n",
        "from keras.datasets import fashion_mnist"
      ]
    },
    {
      "cell_type": "code",
      "source": [
        "(x_train, y_train), (x_test, y_test)= fashion_mnist.load_data()      #loading the dataset\n",
        "\n",
        "x_train= x_train.reshape(x_train.shape[0], -1)                        #reshape the x into (60000, 784)\n",
        "y= y_train                                                            #y is already a 1D array\n",
        "\n",
        "x= x_train.reshape(x_train.shape[0], -1)/255.0                        #normalizing x\n",
        "\n"
      ],
      "metadata": {
        "id": "OIGvG3pwgIT_",
        "colab": {
          "base_uri": "https://localhost:8080/"
        },
        "outputId": "a0806c44-23ef-4950-c911-2336333dcca9"
      },
      "execution_count": null,
      "outputs": [
        {
          "output_type": "stream",
          "name": "stdout",
          "text": [
            "Downloading data from https://storage.googleapis.com/tensorflow/tf-keras-datasets/train-labels-idx1-ubyte.gz\n",
            "\u001b[1m29515/29515\u001b[0m \u001b[32m━━━━━━━━━━━━━━━━━━━━\u001b[0m\u001b[37m\u001b[0m \u001b[1m0s\u001b[0m 0us/step\n",
            "Downloading data from https://storage.googleapis.com/tensorflow/tf-keras-datasets/train-images-idx3-ubyte.gz\n",
            "\u001b[1m26421880/26421880\u001b[0m \u001b[32m━━━━━━━━━━━━━━━━━━━━\u001b[0m\u001b[37m\u001b[0m \u001b[1m0s\u001b[0m 0us/step\n",
            "Downloading data from https://storage.googleapis.com/tensorflow/tf-keras-datasets/t10k-labels-idx1-ubyte.gz\n",
            "\u001b[1m5148/5148\u001b[0m \u001b[32m━━━━━━━━━━━━━━━━━━━━\u001b[0m\u001b[37m\u001b[0m \u001b[1m0s\u001b[0m 0us/step\n",
            "Downloading data from https://storage.googleapis.com/tensorflow/tf-keras-datasets/t10k-images-idx3-ubyte.gz\n",
            "\u001b[1m4422102/4422102\u001b[0m \u001b[32m━━━━━━━━━━━━━━━━━━━━\u001b[0m\u001b[37m\u001b[0m \u001b[1m0s\u001b[0m 0us/step\n"
          ]
        }
      ]
    },
    {
      "cell_type": "code",
      "source": [
        "def sigmoid(z):                             #define sigmoid function\n",
        "  return 1/(1+np.exp(-z))\n",
        "\n",
        "def softmax(z):\n",
        "  return np.exp(z)/ np.sum(np.exp(z), axis= 0)   #softmax function"
      ],
      "metadata": {
        "id": "RsXcheKBzjKB"
      },
      "execution_count": null,
      "outputs": []
    },
    {
      "cell_type": "code",
      "source": [
        "# initialization of weights and bias vector\n",
        "def initialize_weights_bias(layer_size):\n",
        "  all_parameters= {}           #empty dictionary to store weights & biases\n",
        "  L= len(layer_size) -1        #exclude the input vector\n",
        "\n",
        "  for i in range(1, L+1):\n",
        "    all_parameters[f\"W{i}\"] = np.random.randn(layer_size[i], layer_size[i-1])    #initialize W randomly\n",
        "    all_parameters[f\"b{i}\"] = np.random.randn(layer_size[i], 1)                  #initialize b randomly, column vector, one bias per neuron\n",
        "  return all_parameters"
      ],
      "metadata": {
        "id": "nmkwPr8tQIzE"
      },
      "execution_count": null,
      "outputs": []
    },
    {
      "cell_type": "code",
      "source": [
        "#define forward propagation\n",
        "def forward_propagation(x, y, num_of_hidden_layers, num_of_neurons):\n",
        "  N= len(np.unique(y))\n",
        "  input_dimension = x.shape[1]                           #number of features per sample\n",
        "  layer_size = [input_dimension] + [num_of_neurons] * num_of_hidden_layers + [N]\n",
        "\n",
        "  all_parameters = initialize_weights_bias(layer_size)    #calling weights and biases\n",
        "\n",
        "  pre_activations = {}\n",
        "  activations = {\"h0\": x.T}                                #input layer activation h0 is input x itself\n",
        "\n",
        "\n",
        "\n",
        "\n",
        "  for i in range(1, num_of_hidden_layers +1 ):      #calculate weights and biases for hidden layers\n",
        "    a_i= np.dot(all_parameters[f\"W{i}\"], activations[f\"h{i-1}\"]) + all_parameters[f\"b{i}\"]\n",
        "    h_i= sigmoid(a_i)\n",
        "\n",
        "    pre_activations[f\"a{i}\"]= a_i\n",
        "    activations[f\"h{i}\"]= h_i\n",
        "\n",
        "                                                    #output layer preactivation and y_cap= h_L\n",
        "  L= num_of_hidden_layers + 1                       #calculate weights and biases for output layer\n",
        "  a_L= np.dot(all_parameters[f\"W{L}\"], activations[f\"h{L - 1}\"]) + all_parameters[f\"b{L}\"]\n",
        "  h_L= softmax(a_L)                                 #output in last layer or y_cap\n",
        "\n",
        "  pre_activations[f\"a{L}\"]= a_L\n",
        "  activations[f\"h{L}\"] = h_L\n",
        "\n",
        "  return h_L.T\n",
        "\n",
        "\n"
      ],
      "metadata": {
        "id": "3PkctIjlT0sx"
      },
      "execution_count": null,
      "outputs": []
    },
    {
      "cell_type": "code",
      "source": [
        "\n",
        "y_cap= forward_propagation(x, y, 5, 70)           #feed forward function call"
      ],
      "metadata": {
        "id": "K5YTRJrfixNU"
      },
      "execution_count": null,
      "outputs": []
    },
    {
      "cell_type": "code",
      "source": [
        "print(f\"\\n✅ Predicted output shape: {y_cap.shape} \")\n",
        "print(\"\\n🔍 Predicted probability distribution of 10 classes on first sample of dataset :\\n\", y_cap[0])"
      ],
      "metadata": {
        "colab": {
          "base_uri": "https://localhost:8080/"
        },
        "id": "DgOK7a0Z2-Fl",
        "outputId": "4e2dc79d-41c8-4c9b-a5f6-fbbac5437f47"
      },
      "execution_count": null,
      "outputs": [
        {
          "output_type": "stream",
          "name": "stdout",
          "text": [
            "\n",
            "✅ Predicted output shape: (60000, 10) \n",
            "\n",
            "🔍 Predicted probability distribution of 10 classes on first sample of dataset :\n",
            " [2.46768214e-05 6.52359145e-09 2.63364053e-09 2.77537835e-05\n",
            " 1.64631022e-04 1.23324452e-03 6.92912193e-08 5.88677611e-09\n",
            " 9.98549580e-01 2.96137469e-08]\n"
          ]
        }
      ]
    }
  ]
}